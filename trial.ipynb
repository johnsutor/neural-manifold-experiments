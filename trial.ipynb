{
 "cells": [
  {
   "cell_type": "code",
   "execution_count": 609,
   "metadata": {},
   "outputs": [],
   "source": [
    "import os\n",
    "os.environ[\"EXPERIMENT_ROOT\"] = \"/mnt/home/acanatar/ceph/manifold-experiments\"\n",
    "\n",
    "import hydra\n",
    "from hydra import initialize, compose\n",
    "from omegaconf import OmegaConf\n",
    "\n",
    "try:\n",
    "    initialize(version_base=None, config_path=\"configs\")\n",
    "except:\n",
    "    hydra.core.global_hydra.GlobalHydra.instance().clear()\n",
    "    initialize(version_base=None, config_path=\"configs\")\n",
    "    \n",
    "cfg=compose(config_name=\"mmcr_train.yaml\",\n",
    "            overrides=[\"+model.projection_kwargs.features=[2048,512,128]\",\n",
    "                       'model.manifold_loss=\"dimensionality\"',\n",
    "                       \"batch_size=4096\",\n",
    "                       \"dataset.frames_per_clip=6\"])\n",
    "\n",
    "# print(OmegaConf.to_yaml(cfg, resolve=True));"
   ]
  },
  {
   "cell_type": "code",
   "execution_count": 610,
   "metadata": {},
   "outputs": [],
   "source": [
    "import numpy as np\n",
    "import matplotlib.pyplot as plt\n",
    "from tqdm import tqdm\n",
    "import math\n",
    "\n",
    "import torch\n",
    "import torch.nn as nn\n",
    "import torch.nn.functional as F\n",
    "from torch.linalg import svdvals\n",
    "\n",
    "from timm import create_model, list_models"
   ]
  },
  {
   "cell_type": "code",
   "execution_count": 611,
   "metadata": {},
   "outputs": [
    {
     "data": {
      "text/plain": [
       "torch.Size([6, 1, 64, 64])"
      ]
     },
     "execution_count": 611,
     "metadata": {},
     "output_type": "execute_result"
    },
    {
     "data": {
      "image/png": "[encoded data removed]",
      "text/plain": [
       "<Figure size 640x480 with 1 Axes>"
      ]
     },
     "metadata": {},
     "output_type": "display_data"
    }
   ],
   "source": [
    "from torch.utils.data import DataLoader, Dataset\n",
    "from manifold_experiments.datasets import VideoDataset\n",
    "from manifold_experiments.utils.manifold_statistics import (\n",
    "    extract_activations,\n",
    "    get_feature_extractor,\n",
    "    make_manifold_data,\n",
    "    manifold_analysis,\n",
    ")\n",
    "\n",
    "# Load dataset\n",
    "train_dataset = VideoDataset(\n",
    "    name=cfg.dataset.train_name,\n",
    "    frames_per_clip=cfg.dataset.frames_per_clip,\n",
    "    **cfg.dataset.train_kwargs,\n",
    ")\n",
    "val_dataset = VideoDataset(\n",
    "    name=cfg.dataset.val_name,\n",
    "    frames_per_clip=cfg.dataset.frames_per_clip,\n",
    "    **cfg.dataset.val_kwargs,\n",
    ")\n",
    "\n",
    "manifold_train_dataset = VideoDataset(\n",
    "    name=cfg.manifold.train_dataset,\n",
    "    **cfg.manifold.train_dataset_kwargs,\n",
    ")\n",
    "manifold_val_dataset = VideoDataset(\n",
    "    name=cfg.manifold.val_dataset,\n",
    "    **cfg.manifold.val_dataset_kwargs,\n",
    ")\n",
    "\n",
    "\n",
    "train_dataloader = DataLoader(\n",
    "        train_dataset,\n",
    "        batch_size=cfg.batch_size,\n",
    "        shuffle=cfg.shuffle,\n",
    "        num_workers=cfg.num_workers,\n",
    "        pin_memory=cfg.pin_memory,\n",
    "    )\n",
    "\n",
    "\n",
    "val_dataloader = DataLoader(\n",
    "        val_dataset,\n",
    "        batch_size=cfg.batch_size,\n",
    "        shuffle=cfg.shuffle,\n",
    "        num_workers=cfg.num_workers,\n",
    "        pin_memory=cfg.pin_memory,\n",
    "    )\n",
    "\n",
    "\n",
    "for inp in train_dataset:\n",
    "    plt.imshow(inp[0][5].squeeze())\n",
    "    break\n",
    "\n",
    "inp[0].shape"
   ]
  },
  {
   "cell_type": "code",
   "execution_count": 612,
   "metadata": {},
   "outputs": [],
   "source": [
    "from manifold_experiments.constants import HEADS, OPTIMIZERS\n",
    "\n",
    "from manifold_experiments.manifold_models import (\n",
    "    MMCRTwoStageTwoHeadPredictor,\n",
    "    ProjectionHead,\n",
    "    TwoStageTwoHeadPredictor,\n",
    "    create_encoder,\n",
    ")"
   ]
  },
  {
   "cell_type": "code",
   "execution_count": 613,
   "metadata": {},
   "outputs": [
    {
     "data": {
      "text/plain": [
       "'mmcr'"
      ]
     },
     "execution_count": 613,
     "metadata": {},
     "output_type": "execute_result"
    }
   ],
   "source": [
    "cfg.model.type"
   ]
  },
  {
   "cell_type": "code",
   "execution_count": 614,
   "metadata": {},
   "outputs": [],
   "source": [
    "encoder = create_encoder(\n",
    "    model_name=cfg.model.encoder.type,\n",
    "    weights=cfg.model.encoder.weights,\n",
    "    **cfg.model.encoder.kwargs,\n",
    ")\n",
    "\n",
    "model_type = (\n",
    "        TwoStageTwoHeadPredictor\n",
    "        if cfg.model.type == \"default\"\n",
    "        else MMCRTwoStageTwoHeadPredictor\n",
    "    )\n",
    "\n",
    "model = model_type(\n",
    "    encoder=encoder,\n",
    "\n",
    "    linear_head=HEADS[cfg.model.classification_type](**cfg.model.classification_kwargs)\n",
    "    if OmegaConf.select(cfg, \"model.classification_type\")\n",
    "    else None,\n",
    "\n",
    "    autoregressive_head=HEADS[cfg.model.autoregressive_type](**cfg.model.autoregressive_kwargs)\n",
    "    if OmegaConf.select(cfg, \"model.autoregressive_type\")\n",
    "    else None,\n",
    "\n",
    "    projector=ProjectionHead(**cfg.model.projection_kwargs)\n",
    "    if OmegaConf.select(cfg, \"model.projection_kwargs\")\n",
    "    else nn.Identity(),\n",
    "\n",
    "    norm=OmegaConf.select(cfg, \"model.norm\"),\n",
    "\n",
    "    manifold_loss=OmegaConf.select(cfg, \"model.manifold_loss\", default=\"capacity\"),\n",
    ")\n",
    "\n",
    "\n",
    "# Freeze layers up until the specified layer, if present\n",
    "if OmegaConf.select(cfg, \"model.freeze_until\"):\n",
    "    for name, param in model.named_parameters():\n",
    "        if cfg.model.freeze_until != \"all\" and cfg.model.freeze_until in name:\n",
    "            break\n",
    "        param.requires_grad = False"
   ]
  },
  {
   "cell_type": "code",
   "execution_count": null,
   "metadata": {},
   "outputs": [],
   "source": []
  },
  {
   "cell_type": "code",
   "execution_count": 615,
   "metadata": {},
   "outputs": [
    {
     "name": "stdout",
     "output_type": "stream",
     "text": [
      "torch.Size([4096, 128]) torch.Size([4096, 6, 128])\n",
      "torch.Size([128]) torch.Size([4096, 6])\n"
     ]
    }
   ],
   "source": [
    "from manifold_experiments.utils.knn import manifold_knn\n",
    "from manifold_experiments.utils.least_square_regression import manifold_lstsq\n",
    "from manifold_experiments.utils.manifold_statistics import (\n",
    "    extract_activations,\n",
    "    get_feature_extractor,\n",
    "    make_manifold_data,\n",
    "    manifold_analysis,\n",
    ")\n",
    "\n",
    "sampled_manifold_dataset = make_manifold_data(\n",
    "    manifold_train_dataset,\n",
    "    cfg.manifold.sampled_classes,\n",
    "    cfg.manifold.examples_per_class,\n",
    ")\n",
    "\n",
    "results = {}\n",
    "for data, label in train_dataloader:\n",
    "\n",
    "    with torch.no_grad():\n",
    "\n",
    "        # latents = model.get_latent(data)\n",
    "        latents = model.get_projection(data)\n",
    "        assert len(latents.shape) == 3, \\\n",
    "            'latents must have shape (batch, frame, features))'\n",
    "\n",
    "        latents = F.normalize(latents, p=2, dim=-1)\n",
    "        centroid = latents.mean(dim=1)\n",
    "\n",
    "        # SVD of centroids - shape (min(batch, feature))\n",
    "        S_c = svdvals(centroid)\n",
    "        # SVD of latents - shape (batch, min(frame, feature))\n",
    "        S_z = svdvals(latents)\n",
    "\n",
    "        S_c = S_c.abs() / math.sqrt(max(centroid.shape))\n",
    "        S_z = S_z.abs() / math.sqrt(max(latents.shape[1:]))\n",
    "\n",
    "        rad_c = (S_c**2).sum().sqrt()\n",
    "        dim_c = S_c.sum()**2 / rad_c**2 / S_c.shape[0]\n",
    "        alpha_c = rad_c * dim_c.sqrt()\n",
    "\n",
    "        rad_z = (S_z**2).sum(-1).sqrt()\n",
    "        dim_z = S_z.sum(-1)**2 / (S_z**2).sum(-1) / S_z.shape[-1]\n",
    "        alpha_z = rad_z * dim_z.sqrt()\n",
    "\n",
    "        result = {'rad_c': rad_c.item(),\n",
    "                  'dim_c': dim_c.item(),\n",
    "                  'alpha_c': alpha_c.item(),\n",
    "                  'rad_z': rad_z.mean().item(),\n",
    "                  'dim_z': dim_z.mean().item(),\n",
    "                  'alpha_z': alpha_z.mean().item()}\n",
    "\n",
    "        results[cfg.batch_size] = result\n",
    "\n",
    "    break"
   ]
  },
  {
   "cell_type": "code",
   "execution_count": 616,
   "metadata": {},
   "outputs": [],
   "source": [
    "batch_sizes = np.array([key for key in results.keys()])\n",
    "result_array = {key: [] for key in results[batch_sizes[0]]}\n",
    "\n",
    "for batch in batch_sizes:\n",
    "    for key, item in results[batch].items():\n",
    "        result_array[key] += [item]\n",
    "        \n",
    "for key, item in result_array.items():\n",
    "    result_array[key] = np.array([item]).flatten()\n",
    "    "
   ]
  },
  {
   "cell_type": "code",
   "execution_count": 620,
   "metadata": {},
   "outputs": [
    {
     "data": {
      "text/plain": [
       "[<matplotlib.lines.Line2D at 0x7fb91f8d3ad0>]"
      ]
     },
     "execution_count": 620,
     "metadata": {},
     "output_type": "execute_result"
    },
    {
     "data": {
      "image/png": "[encoded data removed]",
      "text/plain": [
       "<Figure size 640x480 with 1 Axes>"
      ]
     },
     "metadata": {},
     "output_type": "display_data"
    }
   ],
   "source": [
    "plt.loglog(batch_sizes, result_array['alpha_z'], 'o')\n",
    "plt.loglog(batch_sizes, result_array['alpha_c'], 'o')\n"
   ]
  },
  {
   "cell_type": "code",
   "execution_count": 622,
   "metadata": {},
   "outputs": [
    {
     "data": {
      "text/plain": [
       "[<matplotlib.lines.Line2D at 0x7fb91e277190>]"
      ]
     },
     "execution_count": 622,
     "metadata": {},
     "output_type": "execute_result"
    },
    {
     "data": {
      "image/png": "[encoded data removed]",
      "text/plain": [
       "<Figure size 640x480 with 1 Axes>"
      ]
     },
     "metadata": {},
     "output_type": "display_data"
    }
   ],
   "source": [
    "plt.loglog(batch_sizes, result_array['dim_z'], 'o')\n",
    "plt.loglog(batch_sizes, result_array['dim_c'], 'o')"
   ]
  },
  {
   "cell_type": "code",
   "execution_count": 623,
   "metadata": {},
   "outputs": [
    {
     "data": {
      "text/plain": [
       "[<matplotlib.lines.Line2D at 0x7fb905ad8b10>]"
      ]
     },
     "execution_count": 623,
     "metadata": {},
     "output_type": "execute_result"
    },
    {
     "data": {
      "image/png": "[encoded data removed]",
      "text/plain": [
       "<Figure size 640x480 with 1 Axes>"
      ]
     },
     "metadata": {},
     "output_type": "display_data"
    }
   ],
   "source": [
    "plt.loglog(batch_sizes, result_array['rad_z'], 'o')\n",
    "plt.loglog(batch_sizes, result_array['rad_c'], 'o')"
   ]
  },
  {
   "cell_type": "code",
   "execution_count": null,
   "metadata": {},
   "outputs": [],
   "source": []
  },
  {
   "cell_type": "code",
   "execution_count": null,
   "metadata": {},
   "outputs": [],
   "source": []
  },
  {
   "cell_type": "code",
   "execution_count": null,
   "metadata": {},
   "outputs": [],
   "source": []
  },
  {
   "cell_type": "code",
   "execution_count": null,
   "metadata": {},
   "outputs": [],
   "source": []
  },
  {
   "cell_type": "code",
   "execution_count": null,
   "metadata": {},
   "outputs": [],
   "source": []
  },
  {
   "cell_type": "code",
   "execution_count": null,
   "metadata": {},
   "outputs": [],
   "source": []
  },
  {
   "cell_type": "code",
   "execution_count": null,
   "metadata": {},
   "outputs": [],
   "source": []
  },
  {
   "cell_type": "code",
   "execution_count": null,
   "metadata": {},
   "outputs": [],
   "source": []
  },
  {
   "cell_type": "code",
   "execution_count": 548,
   "metadata": {},
   "outputs": [],
   "source": []
  },
  {
   "cell_type": "code",
   "execution_count": null,
   "metadata": {},
   "outputs": [],
   "source": []
  },
  {
   "cell_type": "code",
   "execution_count": 8,
   "metadata": {},
   "outputs": [
    {
     "name": "stderr",
     "output_type": "stream",
     "text": [
      "Manifold Val LSTSQ:   0%|          | 0/79 [00:00<?, ?it/s]"
     ]
    },
    {
     "name": "stderr",
     "output_type": "stream",
     "text": [
      "Manifold Val LSTSQ: 100%|██████████| 79/79 [00:27<00:00,  2.85it/s]\n"
     ]
    },
    {
     "data": {
      "text/plain": [
       "{'mean_r_squared': 0.9922868912926438, 'mean_rank': 4.542900085449219}"
      ]
     },
     "execution_count": 8,
     "metadata": {},
     "output_type": "execute_result"
    }
   ],
   "source": [
    "def manifold_lstsq(\n",
    "    module: nn.Module,\n",
    "    manifold_val_data: Dataset,\n",
    "    eps: float = 1e-6,\n",
    "    batch_size: int = 128,\n",
    "    num_workers: int = 2,\n",
    "):\n",
    "    \"\"\"Least squares regression evaluation on manifold data.\n",
    "\n",
    "    Args:\n",
    "    module : nn.Module\n",
    "        Model to evaluate\n",
    "    manifold_val_data : Dataset\n",
    "        val data for the manifold\n",
    "    eps : float, optional\n",
    "        Epsilon for numerical stability, by default 1e-10\n",
    "    batch_size : int, optional\n",
    "        Batch size for the dataloader, by default 128\n",
    "    num_workers : int, optional\n",
    "        Number of workers for the dataloader, by default 2\n",
    "\n",
    "    Returns:\n",
    "    dict\n",
    "        Dictionary containing mean r_squared and mean rank\n",
    "\n",
    "    \"\"\"\n",
    "    device = next(module.parameters()).device\n",
    "\n",
    "    manifold_val_dataloader = DataLoader(\n",
    "        manifold_val_data, batch_size=batch_size, shuffle=False, num_workers=num_workers\n",
    "    )\n",
    "\n",
    "    module.eval()\n",
    "    with torch.no_grad():\n",
    "        coeffs_of_determination = torch.tensor([])\n",
    "        ranks = torch.tensor([])\n",
    "        for data, _ in tqdm(manifold_val_dataloader, desc=\"Manifold Val LSTSQ\"):\n",
    "            data = data.to(device)\n",
    "\n",
    "            # acts shape from (batch_size, frames, features) to (batch_size, features, frames)\n",
    "            # acts = module.get_latent(data).permute(0, 2, 1).type(torch.DoubleTensor)\n",
    "            acts = module.get_projection(data).permute(0, 2, 1).type(torch.DoubleTensor)\n",
    "\n",
    "            \n",
    "            # Compute the least squares regression coefficients\n",
    "            X, y = acts[:, :, :-1], acts[:, :, -1].unsqueeze(2)     \n",
    "            coef, residuals, rank, s = torch.linalg.lstsq(X, y, rcond=None)\n",
    "            y_pred = torch.bmm(X, coef)\n",
    "\n",
    "            total_sum_of_squares = torch.sum(\n",
    "                (y - y.mean(dim=(1), keepdim=True)) ** 2, dim=1\n",
    "            )\n",
    "            residual_sum_of_squares = torch.sum((y - y_pred) ** 2, dim=1)\n",
    "            r_squared = 1 - (\n",
    "                residual_sum_of_squares / (total_sum_of_squares + eps)\n",
    "            ).clamp_(0, 1)\n",
    "\n",
    "            # Perform least squares regression between the last feature and the first features\n",
    "            coeffs_of_determination = torch.cat(\n",
    "                [coeffs_of_determination, r_squared.flatten().cpu()]\n",
    "            )\n",
    "\n",
    "            ranks = torch.cat([ranks, rank.flatten().cpu()])\n",
    "\n",
    "    # Return the mean of the r_squared values and the ranks\n",
    "    return {\n",
    "        \"mean_r_squared\": torch.mean(coeffs_of_determination).item(),\n",
    "        \"mean_rank\": torch.mean(ranks).item(),\n",
    "    }\n",
    "\n",
    "manifold_val_dataloader = DataLoader(\n",
    "        val_dataset, batch_size=128, shuffle=False, num_workers=5\n",
    "    )\n",
    "\n",
    "manifold_lstsq(model, val_dataset)"
   ]
  },
  {
   "cell_type": "code",
   "execution_count": null,
   "metadata": {},
   "outputs": [],
   "source": []
  },
  {
   "cell_type": "code",
   "execution_count": null,
   "metadata": {},
   "outputs": [],
   "source": []
  }
 ],
 "metadata": {
  "kernelspec": {
   "display_name": "Conda (neural)",
   "language": "python",
   "name": "neural"
  },
  "language_info": {
   "codemirror_mode": {
    "name": "ipython",
    "version": 3
   },
   "file_extension": ".py",
   "mimetype": "text/x-python",
   "name": "python",
   "nbconvert_exporter": "python",
   "pygments_lexer": "ipython3",
   "version": "3.11.6"
  }
 },
 "nbformat": 4,
 "nbformat_minor": 2
}
